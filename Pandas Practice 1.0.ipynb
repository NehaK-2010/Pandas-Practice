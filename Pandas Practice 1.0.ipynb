{
 "cells": [
  {
   "cell_type": "markdown",
   "metadata": {
    "application/vnd.databricks.v1+cell": {
     "cellMetadata": {},
     "inputWidgets": {},
     "nuid": "1d2e387f-31e6-4b9c-8b5d-7db40efd4c17",
     "showTitle": false,
     "tableResultSettingsMap": {},
     "title": ""
    }
   },
   "source": [
    "- Pandas is a go-to library for Data Engineering\n",
    "- Turn messy datainto insights-fast"
   ]
  },
  {
   "cell_type": "code",
   "execution_count": 0,
   "metadata": {
    "application/vnd.databricks.v1+cell": {
     "cellMetadata": {
      "byteLimit": 2048000,
      "rowLimit": 10000
     },
     "inputWidgets": {},
     "nuid": "9ac099b3-d1dd-4397-887b-daa33856a204",
     "showTitle": false,
     "tableResultSettingsMap": {},
     "title": ""
    }
   },
   "outputs": [],
   "source": [
    "import numpy as np\n",
    "import pandas as pd\n",
    "\n",
    "dict1={\n",
    "    \"Name\":[\"Neha\", \"Nutan\", \"Hema\", \"Anusha\"],\n",
    "    \"Age\":[25, 26, 27, 28],\n",
    "    \"Salary\":[50000, 60000, 70000, 80000],\n",
    "    \"Department\":[\"IT\", \"HR\", \"IT\", \"HR\"],\n",
    "    \"Location\":[\"Bangalore\", \"Mumbai\", \"Bangalore\", \"Mumbai\"]\n",
    "}\n",
    "\n",
    "df = pd.DataFrame(dict1)\n",
    "df\n",
    "\n",
    "df.to_csv(\"Employee_Details.csv\")\n",
    "df.to_csv(\"Employee_Details_False.csv\", index=False)"
   ]
  },
  {
   "cell_type": "code",
   "execution_count": 0,
   "metadata": {
    "application/vnd.databricks.v1+cell": {
     "cellMetadata": {
      "byteLimit": 2048000,
      "rowLimit": 10000
     },
     "inputWidgets": {},
     "nuid": "0960683a-b964-4790-9a49-85918d416e6b",
     "showTitle": false,
     "tableResultSettingsMap": {},
     "title": ""
    }
   },
   "outputs": [],
   "source": [
    "df.head(2) # to see the first 2 rows"
   ]
  },
  {
   "cell_type": "code",
   "execution_count": 0,
   "metadata": {
    "application/vnd.databricks.v1+cell": {
     "cellMetadata": {
      "byteLimit": 2048000,
      "rowLimit": 10000
     },
     "inputWidgets": {},
     "nuid": "e649c95d-5e21-47fc-8c56-e6837e427817",
     "showTitle": false,
     "tableResultSettingsMap": {},
     "title": ""
    }
   },
   "outputs": [],
   "source": [
    "df.tail(2) # to see the last 2 rows"
   ]
  },
  {
   "cell_type": "code",
   "execution_count": 0,
   "metadata": {
    "application/vnd.databricks.v1+cell": {
     "cellMetadata": {
      "byteLimit": 2048000,
      "rowLimit": 10000
     },
     "inputWidgets": {},
     "nuid": "69d62382-8b3b-4fe3-ad99-cf0ea48e5efa",
     "showTitle": false,
     "tableResultSettingsMap": {},
     "title": ""
    }
   },
   "outputs": [],
   "source": [
    "df.describe() # to see the statistical summary of the data"
   ]
  },
  {
   "cell_type": "code",
   "execution_count": 0,
   "metadata": {
    "application/vnd.databricks.v1+cell": {
     "cellMetadata": {
      "byteLimit": 2048000,
      "rowLimit": 10000
     },
     "inputWidgets": {},
     "nuid": "03d384e4-1abc-4bb6-a0eb-33ed27ec691c",
     "showTitle": false,
     "tableResultSettingsMap": {},
     "title": ""
    }
   },
   "outputs": [],
   "source": [
    "# to read a csv using pandas\n",
    "\n",
    "csv_reader = pd.read_csv(\"loan_applications.csv\")\n",
    "csv_reader"
   ]
  },
  {
   "cell_type": "code",
   "execution_count": 0,
   "metadata": {
    "application/vnd.databricks.v1+cell": {
     "cellMetadata": {
      "byteLimit": 2048000,
      "rowLimit": 10000
     },
     "inputWidgets": {},
     "nuid": "52fbce02-f9af-4de0-a84a-5c855774566d",
     "showTitle": false,
     "tableResultSettingsMap": {},
     "title": ""
    }
   },
   "outputs": [],
   "source": [
    "csv_reader.head(50)"
   ]
  },
  {
   "cell_type": "code",
   "execution_count": 0,
   "metadata": {
    "application/vnd.databricks.v1+cell": {
     "cellMetadata": {
      "byteLimit": 2048000,
      "rowLimit": 10000
     },
     "inputWidgets": {},
     "nuid": "a5a0d5d4-ab31-4856-95be-e7b4d3916f3c",
     "showTitle": false,
     "tableResultSettingsMap": {},
     "title": ""
    }
   },
   "outputs": [],
   "source": [
    "csv_reader.info() # gives the info of the dataframe"
   ]
  },
  {
   "cell_type": "markdown",
   "metadata": {
    "application/vnd.databricks.v1+cell": {
     "cellMetadata": {},
     "inputWidgets": {},
     "nuid": "451b10f2-2939-4018-8e8c-4b47c6cebc56",
     "showTitle": false,
     "tableResultSettingsMap": {},
     "title": ""
    }
   },
   "source": [
    "- index can be change in pandas dataframe\n"
   ]
  },
  {
   "cell_type": "code",
   "execution_count": 0,
   "metadata": {
    "application/vnd.databricks.v1+cell": {
     "cellMetadata": {
      "byteLimit": 2048000,
      "rowLimit": 10000
     },
     "inputWidgets": {},
     "nuid": "76b11ffc-fdc9-452f-9dcc-e6025399147e",
     "showTitle": false,
     "tableResultSettingsMap": {},
     "title": ""
    }
   },
   "outputs": [],
   "source": [
    "#import pandas as pd\n",
    "#import numpy as np\n",
    "\n",
    "ser = pd.Series(np.random.rand(3))\n",
    "ser\n",
    "\n",
    "ser.to_csv(\"Series.txt\", index=False)\n",
    "ser"
   ]
  },
  {
   "cell_type": "code",
   "execution_count": 0,
   "metadata": {
    "application/vnd.databricks.v1+cell": {
     "cellMetadata": {
      "byteLimit": 2048000,
      "rowLimit": 10000
     },
     "inputWidgets": {},
     "nuid": "7ca465f1-b9b2-4f97-8408-3b7f5c1e026d",
     "showTitle": false,
     "tableResultSettingsMap": {},
     "title": ""
    }
   },
   "outputs": [],
   "source": [
    "newdf = pd.DataFrame(np.random.rand(334,5), index = np.arange(334))\n",
    "print(newdf)\n",
    "\n",
    "type(newdf)\n",
    "\n",
    "print(newdf.dtypes)"
   ]
  },
  {
   "cell_type": "code",
   "execution_count": 0,
   "metadata": {
    "application/vnd.databricks.v1+cell": {
     "cellMetadata": {
      "byteLimit": 2048000,
      "rowLimit": 10000
     },
     "inputWidgets": {},
     "nuid": "6f43afdd-50d4-4a6c-8aec-33b2595e729d",
     "showTitle": false,
     "tableResultSettingsMap": {},
     "title": ""
    }
   },
   "outputs": [],
   "source": [
    "newdf [0][0] = \"Neha\"\n",
    "\n",
    "print(newdf)\n",
    "\n",
    "print(newdf.dtypes)\n",
    "\n",
    "print(newdf.index) # to see the index\n",
    "print(newdf.columns)"
   ]
  },
  {
   "cell_type": "code",
   "execution_count": 0,
   "metadata": {
    "application/vnd.databricks.v1+cell": {
     "cellMetadata": {
      "byteLimit": 2048000,
      "rowLimit": 10000
     },
     "inputWidgets": {},
     "nuid": "206c94c9-fab5-4745-b68a-85da3a290beb",
     "showTitle": false,
     "tableResultSettingsMap": {},
     "title": ""
    }
   },
   "outputs": [],
   "source": [
    "newdf[0][0] = 0.3654\n",
    "print(newdf)\n",
    "\n",
    "print(newdf.dtypes) # to see the data types\n",
    "\n",
    "print(newdf.T) # transpose\n",
    "\n"
   ]
  },
  {
   "cell_type": "code",
   "execution_count": 0,
   "metadata": {
    "application/vnd.databricks.v1+cell": {
     "cellMetadata": {
      "byteLimit": 2048000,
      "rowLimit": 10000
     },
     "inputWidgets": {},
     "nuid": "357505c7-8847-445f-a8a9-844d723e6595",
     "showTitle": false,
     "tableResultSettingsMap": {},
     "title": ""
    }
   },
   "outputs": [],
   "source": [
    "print(newdf.sort_index(axis = 0, ascending=False)) #axis = 0 means rows, \n",
    "print(newdf.sort_index(axis = 1, ascending=False)) #axis = 1 means columns, by default ascending = True"
   ]
  },
  {
   "cell_type": "code",
   "execution_count": 0,
   "metadata": {
    "application/vnd.databricks.v1+cell": {
     "cellMetadata": {
      "byteLimit": 2048000,
      "rowLimit": 10000
     },
     "inputWidgets": {},
     "nuid": "9e488a9e-883b-4ddc-adab-1bab96e58560",
     "showTitle": false,
     "tableResultSettingsMap": {},
     "title": ""
    }
   },
   "outputs": [],
   "source": [
    "print(type(newdf[0]))"
   ]
  },
  {
   "cell_type": "code",
   "execution_count": 0,
   "metadata": {
    "application/vnd.databricks.v1+cell": {
     "cellMetadata": {
      "byteLimit": 2048000,
      "rowLimit": 10000
     },
     "inputWidgets": {},
     "nuid": "c21f2cae-76d0-4024-929e-bbe44c3a4f9e",
     "showTitle": false,
     "tableResultSettingsMap": {},
     "title": ""
    }
   },
   "outputs": [],
   "source": [
    "newdf2 = newdf # created a view\n",
    "print(newdf2)\n",
    "\n",
    "newdf3 = newdf.copy() # created a copy\n",
    "print(newdf3)"
   ]
  },
  {
   "cell_type": "code",
   "execution_count": 0,
   "metadata": {
    "application/vnd.databricks.v1+cell": {
     "cellMetadata": {
      "byteLimit": 2048000,
      "rowLimit": 10000
     },
     "inputWidgets": {},
     "nuid": "10b8e43f-0414-406f-8af1-45b924c7a31f",
     "showTitle": false,
     "tableResultSettingsMap": {},
     "title": ""
    }
   },
   "outputs": [],
   "source": [
    "import numpy as np\n",
    "import pandas as pd\n",
    "\n",
    "newdf = pd.DataFrame(np.random.rand(334,5), index = np.arange(334))\n",
    "\n",
    "newdf.columns = list(\"ABCDE\") #changed the column name\n",
    "print(newdf)\n",
    "\n",
    "\n"
   ]
  },
  {
   "cell_type": "code",
   "execution_count": 0,
   "metadata": {
    "application/vnd.databricks.v1+cell": {
     "cellMetadata": {
      "byteLimit": 2048000,
      "rowLimit": 10000
     },
     "inputWidgets": {},
     "nuid": "5792d59a-187c-4605-836f-4472549b1eb3",
     "showTitle": false,
     "tableResultSettingsMap": {},
     "title": ""
    }
   },
   "outputs": [],
   "source": [
    "newdf = pd.DataFrame(np.random.rand(334,5), index = np.arange(334))\n",
    "\n",
    "newdf.loc[0,\"A\"] = 0.2569 #update the column A of row 0\n",
    "print(newdf)"
   ]
  },
  {
   "cell_type": "code",
   "execution_count": 0,
   "metadata": {
    "application/vnd.databricks.v1+cell": {
     "cellMetadata": {
      "byteLimit": 2048000,
      "rowLimit": 10000
     },
     "inputWidgets": {},
     "nuid": "327fc2ed-3fe4-4d0a-a534-5005d04f1837",
     "showTitle": false,
     "tableResultSettingsMap": {},
     "title": ""
    }
   },
   "outputs": [],
   "source": [
    "newdf = pd.DataFrame(np.random.rand(334,5), index = np.arange(334))\n",
    "\n",
    "newdf = newdf.loc[0,0] = 6324 #add a new column '0'\n",
    "print(newdf)\n",
    "\n"
   ]
  },
  {
   "cell_type": "code",
   "execution_count": 0,
   "metadata": {
    "application/vnd.databricks.v1+cell": {
     "cellMetadata": {
      "byteLimit": 2048000,
      "rowLimit": 10000
     },
     "inputWidgets": {},
     "nuid": "dbb02f24-ec22-4b44-963c-db24563115aa",
     "showTitle": false,
     "tableResultSettingsMap": {},
     "title": ""
    }
   },
   "outputs": [],
   "source": [
    "newdf = pd.DataFrame(np.random.rand(334,5), index = np.arange(334))\n",
    "\n",
    "newdf = newdf.drop(0, axis=1) #deleting the columnn '0'\n",
    "print(newdf)"
   ]
  },
  {
   "cell_type": "code",
   "execution_count": 0,
   "metadata": {
    "application/vnd.databricks.v1+cell": {
     "cellMetadata": {
      "byteLimit": 2048000,
      "rowLimit": 10000
     },
     "inputWidgets": {},
     "nuid": "9ee51ec8-820e-48e3-988c-1759f8318811",
     "showTitle": false,
     "tableResultSettingsMap": {},
     "title": ""
    }
   },
   "outputs": [],
   "source": [
    "newdf = pd.DataFrame(np.random.rand(334,5), index = np.arange(334))\n",
    "newdf.columns = list(\"ABCDE\") #changed the column name\n",
    "print(newdf)\n",
    "\n",
    "print(newdf.loc[[1,2],['A','B']]) #to check particular rows and columns"
   ]
  },
  {
   "cell_type": "code",
   "execution_count": 0,
   "metadata": {
    "application/vnd.databricks.v1+cell": {
     "cellMetadata": {
      "byteLimit": 2048000,
      "rowLimit": 10000
     },
     "inputWidgets": {},
     "nuid": "de87c1ee-cfca-414d-a0ba-1757f81e6d13",
     "showTitle": false,
     "tableResultSettingsMap": {},
     "title": ""
    }
   },
   "outputs": [],
   "source": [
    "import numpy as np\n",
    "import pandas as pd\n",
    "\n",
    "newdf = pd.DataFrame(np.random.rand(334,5), index = np.arange(334))\n",
    "newdf.columns = list('ABCDE')\n",
    "\n",
    "print(newdf.loc[:,['A','B']]) #fetch all the rows and particular column\n",
    "\n",
    "print(newdf.loc[[1,2],:]) #fetch all the columns and particular rows"
   ]
  },
  {
   "cell_type": "code",
   "execution_count": 0,
   "metadata": {
    "application/vnd.databricks.v1+cell": {
     "cellMetadata": {},
     "inputWidgets": {},
     "nuid": "d6d013e8-9b26-45dd-8351-e26a63b2e630",
     "showTitle": false,
     "tableResultSettingsMap": {},
     "title": ""
    }
   },
   "outputs": [],
   "source": []
  }
 ],
 "metadata": {
  "application/vnd.databricks.v1+notebook": {
   "computePreferences": null,
   "dashboards": [],
   "environmentMetadata": {
    "base_environment": "",
    "environment_version": "2"
   },
   "inputWidgetPreferences": null,
   "language": "python",
   "notebookMetadata": {
    "pythonIndentUnit": 4
   },
   "notebookName": "Pandas Practice 1.0",
   "widgets": {}
  },
  "language_info": {
   "name": "python"
  }
 },
 "nbformat": 4,
 "nbformat_minor": 0
}
