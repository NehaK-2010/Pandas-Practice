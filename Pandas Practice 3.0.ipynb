{
 "cells": [
  {
   "cell_type": "code",
   "execution_count": 0,
   "metadata": {
    "application/vnd.databricks.v1+cell": {
     "cellMetadata": {
      "byteLimit": 2048000,
      "rowLimit": 10000
     },
     "inputWidgets": {},
     "nuid": "8c8be387-a2e8-4cac-bfdc-6abbdada0ef2",
     "showTitle": false,
     "tableResultSettingsMap": {},
     "title": ""
    }
   },
   "outputs": [],
   "source": [
    "import pandas as pd\n",
    "import numpy as np\n",
    "\n",
    "#%pip install openpyxl\n",
    "#%pip install xlrd\n",
    "\n",
    "employee = pd.read_excel('Employee_Details.xlsx')# by default it reads the first sheet\n",
    "\n",
    "print(employee)\n",
    "\n",
    "employee_1 = pd.read_excel('Employee_Details.xlsx', sheet_name='Sheet1')\n",
    "\n",
    "print(employee_1)\n",
    "\n",
    "employee_2 = pd.read_excel('Employee_Details.xlsx', sheet_name='Sheet2')\n",
    "\n",
    "print(employee_2)"
   ]
  }
 ],
 "metadata": {
  "application/vnd.databricks.v1+notebook": {
   "computePreferences": null,
   "dashboards": [],
   "environmentMetadata": {
    "base_environment": "",
    "environment_version": "2"
   },
   "inputWidgetPreferences": null,
   "language": "python",
   "notebookMetadata": {
    "pythonIndentUnit": 4
   },
   "notebookName": "Pandas Practice 3.0",
   "widgets": {}
  },
  "language_info": {
   "name": "python"
  }
 },
 "nbformat": 4,
 "nbformat_minor": 0
}
