{
 "cells": [
  {
   "cell_type": "code",
   "execution_count": 0,
   "metadata": {
    "application/vnd.databricks.v1+cell": {
     "cellMetadata": {
      "byteLimit": 2048000,
      "rowLimit": 10000
     },
     "inputWidgets": {},
     "nuid": "a069cf12-e3fd-4041-8ab9-fbbe6dd77d30",
     "showTitle": false,
     "tableResultSettingsMap": {},
     "title": ""
    }
   },
   "outputs": [],
   "source": [
    "import numpy as np\n",
    "import pandas as pd\n",
    "\n",
    "newdf = pd.DataFrame(np.random.rand(334,5), index = np.arange(334))\n",
    "newdf.columns = list('ABCDE')\n",
    "\n",
    "print(newdf.loc[:,['A','B']]) #fetch all the rows and particular column\n",
    "\n",
    "print(newdf.loc[[1,2],:]) #fetch all the columns and particular rows"
   ]
  },
  {
   "cell_type": "code",
   "execution_count": 0,
   "metadata": {
    "application/vnd.databricks.v1+cell": {
     "cellMetadata": {
      "byteLimit": 2048000,
      "rowLimit": 10000
     },
     "inputWidgets": {},
     "nuid": "bdb7903c-16ed-475c-ae97-bb3e4a069846",
     "showTitle": false,
     "tableResultSettingsMap": {},
     "title": ""
    }
   },
   "outputs": [],
   "source": [
    "import numpy as np\n",
    "import pandas as pd\n",
    "\n",
    "newdf = pd.DataFrame(np.random.rand(334,5), index = np.arange(334))\n",
    "newdf.columns = list('ABCDE')\n",
    "\n",
    "print(newdf.loc[(newdf['A']<0.3) & (newdf['B']>0.2)]) #fetch the data less than 0.3"
   ]
  },
  {
   "cell_type": "code",
   "execution_count": 0,
   "metadata": {
    "application/vnd.databricks.v1+cell": {
     "cellMetadata": {
      "byteLimit": 2048000,
      "rowLimit": 10000
     },
     "inputWidgets": {},
     "nuid": "8b1e2f16-45b9-4d59-adbe-98b4b318e394",
     "showTitle": false,
     "tableResultSettingsMap": {},
     "title": ""
    }
   },
   "outputs": [],
   "source": [
    "import numpy as np\n",
    "import pandas as pd\n",
    "\n",
    "newdf = pd.DataFrame(np.random.rand(334,5), index = np.arange(334))\n",
    "newdf.columns = list('ABCDE')\n",
    "\n",
    "print(newdf.head(3))\n",
    "print(newdf.iloc[0,4]) #fetch the data based on index\n",
    "\n",
    "print(newdf.iloc[[0,5],[1,2]])\n"
   ]
  },
  {
   "cell_type": "code",
   "execution_count": 0,
   "metadata": {
    "application/vnd.databricks.v1+cell": {
     "cellMetadata": {
      "byteLimit": 2048000,
      "rowLimit": 10000
     },
     "inputWidgets": {},
     "nuid": "29bd8c31-3471-4ff6-a8ff-c42c4c34a4a1",
     "showTitle": false,
     "tableResultSettingsMap": {},
     "title": ""
    }
   },
   "outputs": [],
   "source": [
    "import numpy as np\n",
    "import pandas as pd\n",
    "\n",
    "newdf = pd.DataFrame(np.random.rand(334,5), index = np.arange(334))\n",
    "newdf.columns = list('ABCDE')\n",
    "\n",
    "print(newdf.drop([0]))\n",
    "\n",
    "print(newdf.drop(['A'],axis = 1))\n",
    "\n",
    "print(newdf.drop(['A', 'C'],axis = 1))\n",
    "\n",
    "print(newdf.drop(['A', 'C'],axis = 1, inplace = True)) #inplace will store the new data in the newdf"
   ]
  },
  {
   "cell_type": "code",
   "execution_count": 0,
   "metadata": {
    "application/vnd.databricks.v1+cell": {
     "cellMetadata": {
      "byteLimit": 2048000,
      "rowLimit": 10000
     },
     "inputWidgets": {},
     "nuid": "59fb1df9-d97f-4251-8c5e-1992951b586d",
     "showTitle": false,
     "tableResultSettingsMap": {},
     "title": ""
    }
   },
   "outputs": [],
   "source": [
    "import numpy as np\n",
    "import pandas as pd\n",
    "\n",
    "newdf = pd.DataFrame(np.random.rand(334,5), index = np.arange(334))\n",
    "newdf.columns = list('ABCDE')\n",
    "\n",
    "(newdf.drop(['A', 'C'], axis = 1, inplace = True)) #inplace will store the new data in the newdf\n",
    "\n",
    "print(newdf)"
   ]
  },
  {
   "cell_type": "code",
   "execution_count": 0,
   "metadata": {
    "application/vnd.databricks.v1+cell": {
     "cellMetadata": {
      "byteLimit": 2048000,
      "rowLimit": 10000
     },
     "inputWidgets": {},
     "nuid": "f1935104-569f-4042-bcd6-5fbe132a96da",
     "showTitle": false,
     "tableResultSettingsMap": {},
     "title": ""
    }
   },
   "outputs": [],
   "source": [
    "import numpy as np\n",
    "import pandas as pd\n",
    "\n",
    "newdf = pd.DataFrame(np.random.rand(334,5), index = np.arange(334))\n",
    "newdf.columns = list('ABCDE')\n",
    "\n",
    "(newdf.drop(['A', 'C'], axis = 1, inplace = True))\n",
    "\n",
    "newdf.reset_index(drop = True) #to reset the index\n",
    "\n",
    "print(newdf)"
   ]
  },
  {
   "cell_type": "code",
   "execution_count": 0,
   "metadata": {
    "application/vnd.databricks.v1+cell": {
     "cellMetadata": {
      "byteLimit": 2048000,
      "rowLimit": 10000
     },
     "inputWidgets": {},
     "nuid": "64afa5ea-ef2c-4837-87dc-50ff4f3e4f7f",
     "showTitle": false,
     "tableResultSettingsMap": {},
     "title": ""
    }
   },
   "outputs": [],
   "source": [
    "import pandas as pd\n",
    "import numpy as np\n",
    "\n",
    "newdf = pd.DataFrame(np.random.rand(3,2), index = np.arange(3))\n",
    "\n",
    "print(newdf)\n",
    "\n",
    "print(newdf.describe())\n",
    "\n",
    "print(newdf.mean())\n",
    "\n",
    "print(newdf.corr())\n",
    "\n",
    "print(newdf.count())\n",
    "\n",
    "print(newdf.max())\n",
    "\n",
    "print(newdf.min())\n",
    "\n",
    "print(newdf.median())\n",
    "\n",
    "print(newdf.std())"
   ]
  }
 ],
 "metadata": {
  "application/vnd.databricks.v1+notebook": {
   "computePreferences": null,
   "dashboards": [],
   "environmentMetadata": {
    "base_environment": "",
    "environment_version": "2"
   },
   "inputWidgetPreferences": null,
   "language": "python",
   "notebookMetadata": {
    "pythonIndentUnit": 4
   },
   "notebookName": "Pandas Practice 2.0",
   "widgets": {}
  },
  "language_info": {
   "name": "python"
  }
 },
 "nbformat": 4,
 "nbformat_minor": 0
}
